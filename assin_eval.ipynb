{
  "nbformat": 4,
  "nbformat_minor": 0,
  "metadata": {
    "colab": {
      "name": "assin_eval.ipynb",
      "provenance": [],
      "collapsed_sections": []
    },
    "kernelspec": {
      "name": "python3",
      "display_name": "Python 3"
    }
  },
  "cells": [
    {
      "cell_type": "code",
      "metadata": {
        "colab_type": "code",
        "id": "6s6ZNOt9Rv2B",
        "colab": {}
      },
      "source": [
        "corpus = 'assin-ptbr'\n",
        "#assin-ptbr, assin-ptpt\n",
        "model = 'roberta-large' \n",
        "#neuralmind/bert-base-portuguese-cased, bert-base-multilingual-cased, roberta-large\n",
        "\n",
        "gold_file = f'{download_folder}/{corpus}-test.xml'\n",
        "system_file = f'report/{model}/{corpus}-test.xml'\n",
        "download_folder = 'data/dataset'"
      ],
      "execution_count": 0,
      "outputs": []
    },
    {
      "cell_type": "markdown",
      "metadata": {
        "colab_type": "text",
        "id": "uUDnm2PoS46t"
      },
      "source": [
        "Get dataset and official evaluation script "
      ]
    },
    {
      "cell_type": "code",
      "metadata": {
        "colab_type": "code",
        "id": "N1HnQ7KYSN-m",
        "outputId": "41ea3a06-c335-4408-f157-ec0c8a5c96d8",
        "colab": {
          "base_uri": "https://localhost:8080/",
          "height": 221
        }
      },
      "source": [
        "!wget http://nilc.icmc.usp.br/assin/assin.tar.gz\n",
        "!tar -xzf assin.tar.gz\n",
        "%mkdir $download_folder\n",
        "%mv *.xml $download_folder\n",
        "%rm -rf assin.tar.gz\n",
        "\n",
        "!git clone https://github.com/erickrf/assin.git"
      ],
      "execution_count": 0,
      "outputs": [
        {
          "output_type": "stream",
          "text": [
            "--2020-04-20 22:07:09--  http://nilc.icmc.usp.br/assin/assin.tar.gz\n",
            "Resolving nilc.icmc.usp.br (nilc.icmc.usp.br)... 143.107.183.225\n",
            "Connecting to nilc.icmc.usp.br (nilc.icmc.usp.br)|143.107.183.225|:80... connected.\n",
            "HTTP request sent, awaiting response... 200 OK\n",
            "Length: 749735 (732K) [application/x-gzip]\n",
            "Saving to: ‘assin.tar.gz’\n",
            "\n",
            "assin.tar.gz        100%[===================>] 732.16K  1.05MB/s    in 0.7s    \n",
            "\n",
            "2020-04-20 22:07:10 (1.05 MB/s) - ‘assin.tar.gz’ saved [749735/749735]\n",
            "\n",
            "fatal: destination path 'assin' already exists and is not an empty directory.\n"
          ],
          "name": "stdout"
        }
      ]
    },
    {
      "cell_type": "markdown",
      "metadata": {
        "colab_type": "text",
        "id": "8Q-ujA5xTDRs"
      },
      "source": [
        "Evaluate"
      ]
    },
    {
      "cell_type": "code",
      "metadata": {
        "colab_type": "code",
        "id": "0kU5MtulTFnw",
        "outputId": "49fd333f-665c-47ce-9486-1b0b16fad2f3",
        "colab": {
          "base_uri": "https://localhost:8080/",
          "height": 187
        }
      },
      "source": [
        "!python assin/assin-eval.py {gold_file} {system_file}\n",
        "!python assin/assin-eval.py {gold_file} {system_file}"
      ],
      "execution_count": 0,
      "outputs": [
        {
          "output_type": "stream",
          "text": [
            "\n",
            "RTE evaluation\n",
            "Accuracy\tMacro F1\n",
            "--------\t--------\n",
            "  90.15%\t   0.777\n",
            "\n",
            "Similarity evaluation\n",
            "Pearson\t\tMean Squared Error\n",
            "-------\t\t------------------\n",
            "  1.000\t\t              0.00\n"
          ],
          "name": "stdout"
        }
      ]
    }
  ]
}