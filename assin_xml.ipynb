{
  "nbformat": 4,
  "nbformat_minor": 0,
  "metadata": {
    "colab": {
      "name": "assin_xml.ipynb",
      "provenance": [],
      "collapsed_sections": []
    },
    "kernelspec": {
      "name": "python3",
      "display_name": "Python 3"
    }
  },
  "cells": [
    {
      "cell_type": "code",
      "metadata": {
        "id": "Z67pEw-nn-tv",
        "colab_type": "code",
        "colab": {}
      },
      "source": [
        "corpus = 'assin-ptbr'\n",
        "#assin-ptbr-rte, assin-ptpt-rte, tweetsent\n",
        "model = 'neuralmind/bert-base-portuguese-cased' \n",
        "#neuralmind/bert-base-portuguese-cased, bert-base-multilingual-cased, roberta-large\n",
        "\n",
        "filepath = f'output/{model}/{corpus}-rte/predictions.json'\n",
        "filepaths = {'rte': filepath}\n",
        "\n",
        "output_dir = f'report/{model}/'\n",
        "\n",
        "download_folder = 'data/dataset'"
      ],
      "execution_count": 0,
      "outputs": []
    },
    {
      "cell_type": "markdown",
      "metadata": {
        "id": "IMxGX8xKKZaf",
        "colab_type": "text"
      },
      "source": [
        "Get dataset and requirement"
      ]
    },
    {
      "cell_type": "code",
      "metadata": {
        "id": "OJ3mds00KeRC",
        "colab_type": "code",
        "outputId": "6f5a9005-13db-4130-a09a-af7c39650fe6",
        "colab": {
          "base_uri": "https://localhost:8080/",
          "height": 221
        }
      },
      "source": [
        "!wget http://nilc.icmc.usp.br/assin/assin.tar.gz\n",
        "!tar -xzf assin.tar.gz\n",
        "%rm -rf assin.tar.gz\n",
        "\n",
        "!pip install xmltodict\n",
        "\n",
        "%mkdir $download_folder\n",
        "%mv *.xml $download_folder"
      ],
      "execution_count": 12,
      "outputs": [
        {
          "output_type": "stream",
          "text": [
            "--2020-04-20 21:54:49--  http://nilc.icmc.usp.br/assin/assin.tar.gz\n",
            "Resolving nilc.icmc.usp.br (nilc.icmc.usp.br)... 143.107.183.225\n",
            "Connecting to nilc.icmc.usp.br (nilc.icmc.usp.br)|143.107.183.225|:80... connected.\n",
            "HTTP request sent, awaiting response... 200 OK\n",
            "Length: 749735 (732K) [application/x-gzip]\n",
            "Saving to: ‘assin.tar.gz’\n",
            "\n",
            "assin.tar.gz        100%[===================>] 732.16K  1.06MB/s    in 0.7s    \n",
            "\n",
            "2020-04-20 21:54:50 (1.06 MB/s) - ‘assin.tar.gz’ saved [749735/749735]\n",
            "\n",
            "Requirement already satisfied: xmltodict in /usr/local/lib/python3.6/dist-packages (0.12.0)\n"
          ],
          "name": "stdout"
        }
      ]
    },
    {
      "cell_type": "markdown",
      "metadata": {
        "id": "Lyy4nHH-o3Vl",
        "colab_type": "text"
      },
      "source": [
        "Import xml files"
      ]
    },
    {
      "cell_type": "code",
      "metadata": {
        "id": "wk8AAUDCo1Vx",
        "colab_type": "code",
        "colab": {}
      },
      "source": [
        "import xmltodict\n",
        "import json\n",
        "\n",
        "tasks = ['rte']\n",
        "scores = dict()\n",
        "\n",
        "for task in tasks:\n",
        "    filepath = filepaths[task]\n",
        "    with open(filepath) as f:\n",
        "        scores[task] = json.load(f)\n",
        "\n",
        "    goldfile = 'assin2-blind-test.xml' if corpus == 'assin2' else f'{corpus}-test.xml'\n",
        "    with open(f'{download_folder}/{goldfile}') as f:\n",
        "        xml = xmltodict.parse(f.read())"
      ],
      "execution_count": 0,
      "outputs": []
    },
    {
      "cell_type": "markdown",
      "metadata": {
        "id": "KJy31_ezx1j7",
        "colab_type": "text"
      },
      "source": [
        "Insert scores"
      ]
    },
    {
      "cell_type": "code",
      "metadata": {
        "id": "YjWPx4qGvatC",
        "colab_type": "code",
        "colab": {}
      },
      "source": [
        "for idx, item in enumerate(xml['entailment-corpus']['pair']):\n",
        "    entailment_labels = ['Entailment','None','Paraphrase']\n",
        "    entailment = entailment_labels[scores['rte'][idx]]\n",
        "\n",
        "    xml['entailment-corpus']['pair'][idx]['@entailment'] = entailment"
      ],
      "execution_count": 0,
      "outputs": []
    },
    {
      "cell_type": "markdown",
      "metadata": {
        "id": "ICwXhIuClfhy",
        "colab_type": "text"
      },
      "source": [
        "Save XML"
      ]
    },
    {
      "cell_type": "code",
      "metadata": {
        "id": "ZL90UZm8zbEs",
        "colab_type": "code",
        "colab": {}
      },
      "source": [
        "result = xmltodict.unparse(xml, pretty = True)\n",
        "with open(f'{output_dir}/{corpus}-test.xml', 'w') as f:\n",
        "    f.write(result)"
      ],
      "execution_count": 0,
      "outputs": []
    }
  ]
}
